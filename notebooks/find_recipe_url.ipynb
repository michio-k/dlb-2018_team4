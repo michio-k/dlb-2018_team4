{
 "cells": [
  {
   "cell_type": "code",
   "execution_count": 1,
   "metadata": {},
   "outputs": [],
   "source": [
    "import csv"
   ]
  },
  {
   "cell_type": "code",
   "execution_count": 2,
   "metadata": {},
   "outputs": [],
   "source": [
    "# 機械学習で認識した材料のリスト\n",
    "input_text=['じゃがいも', 'にんじん']"
   ]
  },
  {
   "cell_type": "code",
   "execution_count": 6,
   "metadata": {},
   "outputs": [],
   "source": [
    "# 該当レシピの検索\n",
    "result_recipes=[]\n",
    "with open('../data/recipes.csv') as f:\n",
    "    reader = csv.reader(f)\n",
    "    for row in reader:\n",
    "        recipe_id = row[0]\n",
    "        ingredients = row[1].split(\",\")\n",
    "        if all((i in ingredients) for i in input_text):\n",
    "            result_recipes.append(recipe_id)"
   ]
  },
  {
   "cell_type": "code",
   "execution_count": 12,
   "metadata": {},
   "outputs": [
    {
     "name": "stdout",
     "output_type": "stream",
     "text": [
      "https://oishi-kenko.com/recipes/143\n",
      "https://oishi-kenko.com/recipes/227\n",
      "https://oishi-kenko.com/recipes/275\n",
      "https://oishi-kenko.com/recipes/423\n",
      "https://oishi-kenko.com/recipes/456\n",
      "https://oishi-kenko.com/recipes/616\n",
      "https://oishi-kenko.com/recipes/761\n",
      "https://oishi-kenko.com/recipes/864\n",
      "https://oishi-kenko.com/recipes/1120\n",
      "https://oishi-kenko.com/recipes/1133\n"
     ]
    }
   ],
   "source": [
    "# レシピURLの表示\n",
    "for recipe_id in result_recipes[:10]: # 上から10件だけ\n",
    "    print(\"https://oishi-kenko.com/recipes/\" + recipe_id)"
   ]
  },
  {
   "cell_type": "code",
   "execution_count": null,
   "metadata": {},
   "outputs": [],
   "source": []
  }
 ],
 "metadata": {
  "kernelspec": {
   "display_name": "Python 2",
   "language": "python",
   "name": "python2"
  },
  "language_info": {
   "codemirror_mode": {
    "name": "ipython",
    "version": 2
   },
   "file_extension": ".py",
   "mimetype": "text/x-python",
   "name": "python",
   "nbconvert_exporter": "python",
   "pygments_lexer": "ipython2",
   "version": "2.7.15"
  }
 },
 "nbformat": 4,
 "nbformat_minor": 2
}
