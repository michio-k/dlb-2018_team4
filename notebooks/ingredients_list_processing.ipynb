{
 "cells": [
  {
   "cell_type": "code",
   "execution_count": 8,
   "metadata": {
    "collapsed": false
   },
   "outputs": [],
   "source": [
    "from urllib.request import urlopen\n",
    "from bs4 import BeautifulSoup\n",
    "\n",
    "'''\n",
    "#!pip3 install torch torchvision\n",
    "import torch\n",
    "import torch.nn as nn\n",
    "import torch.nn.functional as F\n",
    "import torch.optim as optim\n",
    "'''\n",
    "\n",
    "from random import sample\n",
    "import random\n",
    "\n",
    "import gensim"
   ]
  },
  {
   "cell_type": "markdown",
   "metadata": {},
   "source": [
    "# We are going to obtain two kinds of list; the input list and the output list\n",
    "- the input list contains input ingredients\n",
    "- the output list contains output ingredients which are mapped with output food images"
   ]
  },
  {
   "cell_type": "markdown",
   "metadata": {},
   "source": [
    "# Web scraping for the input master list"
   ]
  },
  {
   "cell_type": "code",
   "execution_count": 15,
   "metadata": {
    "collapsed": true
   },
   "outputs": [],
   "source": [
    "url = \"http://shoku-joho.com/jiten/?page_id=1185\" # \"若山博士監修　ためになる食材辞典\"\n",
    "html = urlopen(url)\n",
    "soup = BeautifulSoup(html, \"lxml\")"
   ]
  },
  {
   "cell_type": "code",
   "execution_count": 16,
   "metadata": {
    "collapsed": false
   },
   "outputs": [],
   "source": [
    "input_master_list = []\n",
    "for row in soup.find_all(class_=\"ichi04p\"):\n",
    "    input_master_list.append(row.get_text())"
   ]
  },
  {
   "cell_type": "code",
   "execution_count": 17,
   "metadata": {
    "collapsed": false
   },
   "outputs": [
    {
     "name": "stdout",
     "output_type": "stream",
     "text": [
      "食材数: 357\n",
      "['アーティチョーク', 'アーモンド', 'アオベラ', 'アオヤギ', 'アカガイ', '赤カブ', '赤トウガラシ', '赤ワイン', 'アケビ', 'アサイー', 'アサリ', 'アジ', 'アシタバ', 'アズキ', 'アスパラガス', 'アスパラソバージュ', 'アセロラ', 'アナゴ', 'アボカド', 'アマダイ', '甘夏', '亜麻仁油', 'アユ', 'アルファルファ', 'アロエ', 'アワビ', 'アンコウ', 'アンズ', 'アンチョビ', 'イカ', 'イサキ', 'イチゴ', 'イチジク', 'イワシ', 'ウイスキー', 'ウーロン茶', 'ウコン', 'ウズラの卵', 'ウド', 'ウナギ', 'ウニ', '海ブドウ', 'ウメ', 'ウルイ', 'うるち米', 'エゴマ油', 'エシャロット', 'エダマメ', 'エノキダケ', 'エビ', 'エリンギ', 'エンダイブ', 'オータムポエム', '大麦', 'オールスパイス', 'オカヒジキ', 'オクラ', 'オリーブオイル', 'オリーブの実', 'オレガノ', 'オレンジ', 'カイワレダイコン', 'カキ（柿）', 'カキ（牡蠣）', 'カジカ', 'カジキ', 'カシューナッツ', 'カツオ', 'カニ', 'カブ', 'カボス', 'カボチャ', 'カボチャの種', 'カマス', 'カモミールティー', 'カラシナ', 'カリフラワー', 'カリン', 'カレイ', '寒天', 'かんぴょう', 'キウイフルーツ', 'キクラゲ', 'キス', 'きな粉', 'キャビア', 'キャベツ', '牛肉', '牛乳', 'キュウリ', '牛レバー', '行者ニンニク', 'キンカン', 'キンキ', 'キンサイ', 'ギンナン', 'キンメダイ', 'グァバ', 'クウシンサイ', 'クコ', 'クズ（葛）', 'グチ', 'クラゲ', 'クランベリー', 'クリ', 'グリンピース', 'クルマエビ', 'クルミ', 'グレープフルーツ', 'クレソン', '黒砂糖', '黒豆', 'クワイ', '桑の実', 'ケール', 'ケガニ', '玄米', 'コイ（鯉）', '紅茶', 'コーヒー', 'ゴーヤ', 'ココア', 'ココナツ', 'コチ', 'ゴボウ', 'ゴマ', 'コマツナ', '小麦', 'コンニャク', 'コンブ', 'ザーサイ', 'サクランボ', 'ザクロ', 'サケ', 'サザエ', 'ササゲ', '雑穀米', 'サツマイモ', 'サトイモ', 'サトウキビ', 'サバ', 'サヤインゲン', 'サヤエンドウ', 'サワラ（鰆）', 'サンザシ', 'サンショウ（山椒）', 'サンチュ', 'サンマ', 'シイタケ', 'シシトウガラシ', 'シジミ', 'シシャモ', 'シソ', 'シマトウガラシ', 'ジャガイモ', 'シュンギク（春菊）', 'ジュンサイ', 'ショウガ', '焼酎', 'しょうゆ（醤油）', '食塩', '食用菊', '白ワイン', '新ジャガイモ', '新タマネギ', '酢', 'スイカ', 'スズキ', 'スターフルーツ', 'スダチ', 'ズッキーニ', 'スプラウト', 'スモモ', 'ズワイガニ', 'セージ', 'セリ', 'セロリ', 'ゼンマイ', 'ソバ', 'ソラマメ', 'タアサイ', 'タイ', 'ダイコン', 'ダイズ', 'タイム', 'タケノコ', 'タコ', 'タチウオ', 'タデ', 'タピオカ', 'タマゴ（鶏卵）', 'タマネギ', 'タラ（鱈）', 'たらこ', 'タラゴン', 'タラの芽', 'タンポポ', 'チーズ', 'チコリー', 'チャービル', 'チョウセンニンジン', 'チンゲンサイ', 'ツクシ', 'ツルナ', 'ツルムラサキ', 'テングサ', 'トウガラシ', 'トウガン（冬瓜）', 'とうみょう（豆苗）', 'トウモロコシ', 'ドクダミ', 'ドジョウ', 'トビウオ', 'トマト', 'ドリアン', '鶏肉', 'トリュフ', 'トレビス', 'トンブリ', 'ナシ', 'ナズナ', 'ナタマメ（なた豆）', '納豆', '夏ミカン', 'ナツメグ', 'ナバナ', 'ナマコ', 'ナメコ', 'ニシン', '日本酒', 'ニラ', 'ニンジン', 'ニンニク', 'ネギ（ナガネギ）', 'ノザワナ（野沢菜）', 'ノドグロ', 'ノビル', 'のり（海苔）', 'パイナップル', 'ハイビスカス', 'ハクサイ（白菜）', 'パクチー', 'バジル', 'ハスカップ', 'パセリ', 'バター', 'ハタハタ', 'ハチミツ', 'パッションフルーツ', 'ハト麦', 'バナナ', 'ハナマメ（花豆）', 'パパイア', 'パプリカ', 'ハマグリ', 'ハモ', 'ピータン', 'ピーナッツ', 'ピーマン', 'ヒイラギ', 'ビール', 'ヒジキ', 'ピスタチオナッツ', 'ピタヤ', 'ヒヨコ豆', 'ヒラメ', 'ビワ', 'フェンネル', 'フォアグラ', 'フカヒレ', 'フキ', 'フキノトウ', 'フグ', '豚肉', 'フダンソウ', 'ブドウ', 'ブナシメジ', '冬イチゴ', 'ブリ（ハマチ）', 'ブルーベリー', 'プルーン', 'プルピエ', 'ブロッコリー', 'プロポリス', 'ペカンナッツ', 'ヘチマ', 'ホウレンソウ', 'ホタテ貝', 'ホタルイカ', 'ボタンエビ', 'ホッケ', 'ポルチーニ', 'マーガリン', 'マイタケ', 'マカダミアナッツ', 'マグロ', 'マゴチ', 'マスタード', 'マタタビ', 'マッシュルーム', 'マツタケ', '松の実', 'マンゴー', 'ミカン（温州みかん）', 'ミズナ', 'みそ', 'ミツバ', 'ミネラルウォーター', 'ミブナ（壬生菜）', 'ミョウガ', 'ミラクルフルーツ', 'ミント', 'ムール貝', 'ムカゴ', '麦茶', 'めかぶ', '芽キャベツ', 'めざし', 'メロン', 'モズク', 'もち米', 'モモ', 'モヤシ', 'モロヘイヤ', 'ヤーコン', 'ヤギ乳', 'ヤマイモ（山いも）', 'ヤリイカ', 'ヤングコーン', 'ユズ', 'ユリ根', 'ヨーグルト', '羊肉', 'ヨメナ', 'ヨモギ', 'ライム', 'ラッキョウ', 'ランブータン', 'リコリス', '緑茶', 'リンゴ', 'ルッコラ', 'ルバーブ', 'レーズン', 'レタス', 'レモン', 'レモングラス', 'レンコン', 'レンズ豆', 'ローズヒップティー', 'ローズマリー', 'ローヤルゼリー', 'ローリエ', 'ワカサギ', 'ワカメ', 'ワサビ', 'ワラビ']\n"
     ]
    }
   ],
   "source": [
    "print(\"食材数:\", len(input_list))\n",
    "print(input_master_list)"
   ]
  },
  {
   "cell_type": "markdown",
   "metadata": {},
   "source": [
    "# Generate the input lists"
   ]
  },
  {
   "cell_type": "code",
   "execution_count": 43,
   "metadata": {
    "collapsed": false
   },
   "outputs": [],
   "source": [
    "# random sampling from the input master list; get 50 lists, each list contains 3 to 10 items\n",
    "input_lists = []\n",
    "for _ in range(50):\n",
    "    input_list = sample(set(input_master_list), random.randint(3,10))\n",
    "    input_lists.append(input_list)"
   ]
  },
  {
   "cell_type": "code",
   "execution_count": 44,
   "metadata": {
    "collapsed": false
   },
   "outputs": [
    {
     "data": {
      "text/plain": [
       "['フェンネル', 'サンチュ', 'ウルイ', 'カボチャの種', 'ハモ']"
      ]
     },
     "execution_count": 44,
     "metadata": {},
     "output_type": "execute_result"
    }
   ],
   "source": [
    "input_lists[0]"
   ]
  },
  {
   "cell_type": "markdown",
   "metadata": {},
   "source": [
    "# Generate the output lists"
   ]
  },
  {
   "cell_type": "code",
   "execution_count": 38,
   "metadata": {
    "collapsed": false
   },
   "outputs": [],
   "source": [
    "# random sampling from the input master list; get 50 lists, each list contains 3 to 10 items\n",
    "output_lists = []\n",
    "for _ in range(50):\n",
    "    output_list = sample(set(input_master_list), random.randint(3,10))\n",
    "    output_lists.append(output_list)"
   ]
  },
  {
   "cell_type": "code",
   "execution_count": 42,
   "metadata": {
    "collapsed": false
   },
   "outputs": [
    {
     "data": {
      "text/plain": [
       "['サンショウ（山椒）',\n",
       " 'アユ',\n",
       " 'マタタビ',\n",
       " 'カボチャの種',\n",
       " 'ケール',\n",
       " 'ノザワナ（野沢菜）',\n",
       " 'シュンギク（春菊）',\n",
       " '赤トウガラシ',\n",
       " 'アーモンド',\n",
       " 'サトウキビ']"
      ]
     },
     "execution_count": 42,
     "metadata": {},
     "output_type": "execute_result"
    }
   ],
   "source": [
    "output_lists[0]"
   ]
  },
  {
   "cell_type": "markdown",
   "metadata": {},
   "source": [
    "# Word Embedding"
   ]
  },
  {
   "cell_type": "code",
   "execution_count": 48,
   "metadata": {
    "collapsed": false
   },
   "outputs": [],
   "source": [
    "\"\"\"\n",
    "# create the word embedding of the input master list\n",
    "word_to_ix = {word:ix for ix,word in enumerate(input_master_list)}\n",
    "embeds = nn.Embedding(len(input_master_list), 300) # 357 vocabularies, 300 dimensional embeddings\n",
    "\n",
    "def list2emb(lists):\n",
    "    \"\"\"convert input_lists or output_lists to embedding lists\"\"\"\n",
    "    res2 = []\n",
    "    for element_list in lists:\n",
    "        res1 = []\n",
    "        for element in element_list:\n",
    "            lookup_tensor = torch.tensor([word_to_ix[element]], dtype=torch.long)\n",
    "            res1.append(embeds(lookup_tensor))\n",
    "        res2.append(res1)\n",
    "    return res2\n",
    "\n",
    "input_lists_emb = list2emb(input_lists)\n",
    "input_lists_emb = list2emb(input_lists)\n",
    "\n",
    "lookup_tensor = torch.tensor([word_to_ix[\"ニンジン\"]], dtype=torch.long)\n",
    "print(embeds(lookup_tensor).shape)\n",
    "\"\"\""
   ]
  },
  {
   "cell_type": "code",
   "execution_count": 7,
   "metadata": {
    "collapsed": false
   },
   "outputs": [
    {
     "data": {
      "text/plain": [
       "' reference:\\n        https://pytorch.org/tutorials/beginner/nlp/word_embeddings_tutorial.html \\n'"
      ]
     },
     "execution_count": 7,
     "metadata": {},
     "output_type": "execute_result"
    }
   ],
   "source": [
    "\"\"\" reference:\n",
    "        https://pytorch.org/tutorials/beginner/nlp/word_embeddings_tutorial.html \n",
    "\"\"\""
   ]
  }
 ],
 "metadata": {
  "kernelspec": {
   "display_name": "Python 3",
   "language": "python",
   "name": "python3"
  },
  "language_info": {
   "codemirror_mode": {
    "name": "ipython",
    "version": 3
   },
   "file_extension": ".py",
   "mimetype": "text/x-python",
   "name": "python",
   "nbconvert_exporter": "python",
   "pygments_lexer": "ipython3",
   "version": "3.6.0"
  }
 },
 "nbformat": 4,
 "nbformat_minor": 2
}
